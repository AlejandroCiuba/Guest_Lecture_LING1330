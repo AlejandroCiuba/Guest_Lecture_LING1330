{
 "cells": [
  {
   "cell_type": "markdown",
   "metadata": {},
   "source": [
    "# Machine Learning & Neural Networks Demonstration\n",
    "***\n",
    "By [Alejandro Ciuba](https://alejandrociuba.github.io), alejandrociuba@gmail.com\n",
    "***\n",
    "## Table of Contents\n",
    "1. [Scikit Learn's Naive Bayes' Classifier - Austen vs. Melville](#1-scikit-learns-naive-bayes-classifier---austen-vs-melville)\n",
    "2. [PyTorch (Small Perceptron Model)](#2-pytorch-small-perceptron-model)\n",
    "3. [Hugging Face Demo](#3-hugging-face-demo)\n",
    "***\n",
    "## Necessary Imports\n",
    "These imports will be used throughout the whole notebook. This code cell should be ran after every restart of the kernel"
   ]
  },
  {
   "cell_type": "code",
   "execution_count": 1,
   "metadata": {},
   "outputs": [],
   "source": [
    "# General imports\n",
    "from nltk.corpus import gutenberg\n",
    "import matplotlib.pyplot as plt\n",
    "import numpy as np\n",
    "import seaborn as sns\n",
    "import random as rand\n",
    "\n",
    "# Scikit Learn\n",
    "from sklearn.model_selection import train_test_split # We'll use this a lot even though it's an sklearn function\n",
    "from sklearn.feature_extraction.text import TfidfVectorizer\n",
    "from sklearn.naive_bayes import MultinomialNB\n",
    "from sklearn.pipeline import make_pipeline\n",
    "from sklearn.metrics import confusion_matrix\n",
    "\n",
    "# PyTorch\n",
    "from torch.utils.data import Dataset, DataLoader\n",
    "import torch\n",
    "import torch.nn as nn\n",
    "\n",
    "# Hugging Face\n",
    "from transformers import pipeline\n",
    "\n",
    "# Dataset filepath\n",
    "FILEPATH='./data/'"
   ]
  },
  {
   "cell_type": "markdown",
   "metadata": {},
   "source": [
    "***\n",
    "## 1. Scikit Learn's Naive Bayes' Classifier - Austen vs. Melville\n",
    "Here, we'll revisit the task of labelling a given sentence as either a sentence written by Jane Austen or Herman Melville. However, this time we'll use _Scikit Learn's_ [_Categorical Naive Bayes' Classifier_](https://scikit-learn.org/stable/modules/generated/sklearn.naive_bayes.CategoricalNB.html#sklearn.naive_bayes.CategoricalNB), a NB Classifier tailored to categorical data-labelling tasks."
   ]
  },
  {
   "cell_type": "code",
   "execution_count": 55,
   "metadata": {},
   "outputs": [
    {
     "name": "stdout",
     "output_type": "stream",
     "text": [
      "17776 17776\n",
      "(17776,)\n",
      "But now comes the greatest joke of the dream , Flask . melville\n",
      "<class 'numpy.ndarray'>\n"
     ]
    }
   ],
   "source": [
    "# First, we need to get the data, the individual sentences\n",
    "a_sents = [' '.join(sent) for sent in gutenberg.sents('austen-emma.txt')]\n",
    "m_sents = [' '.join(sent) for sent in gutenberg.sents('melville-moby_dick.txt')]\n",
    "\n",
    "# Turn it into an np.array\n",
    "all_sents = np.concatenate([a_sents, m_sents])\n",
    "\n",
    "# Make an np.array for the labels\n",
    "all_labels = np.array(['austen'] * len(a_sents) + ['melville'] * len(m_sents))\n",
    "\n",
    "print(len(all_sents), len(all_labels))\n",
    "print(all_sents.shape)\n",
    "print(all_sents[10192], all_labels[10192])\n",
    "print(type(all_sents))"
   ]
  },
  {
   "cell_type": "code",
   "execution_count": 56,
   "metadata": {},
   "outputs": [
    {
     "name": "stdout",
     "output_type": "stream",
     "text": [
      "11850 5926\n",
      "But now comes the greatest joke of the dream , Flask . melville\n"
     ]
    }
   ],
   "source": [
    "# Now, we need to do our train-test split. Conveniently, sklearn has a function just for that\n",
    "X_train, X_test, y_train, y_test = train_test_split(all_sents, all_labels, test_size=1/3, random_state=0)\n",
    "\n",
    "print(len(X_train), len(X_test))\n",
    "print(X_train[314], y_train[314])"
   ]
  },
  {
   "cell_type": "code",
   "execution_count": 57,
   "metadata": {},
   "outputs": [
    {
     "data": {
      "text/html": [
       "<style>#sk-container-id-2 {color: black;background-color: white;}#sk-container-id-2 pre{padding: 0;}#sk-container-id-2 div.sk-toggleable {background-color: white;}#sk-container-id-2 label.sk-toggleable__label {cursor: pointer;display: block;width: 100%;margin-bottom: 0;padding: 0.3em;box-sizing: border-box;text-align: center;}#sk-container-id-2 label.sk-toggleable__label-arrow:before {content: \"▸\";float: left;margin-right: 0.25em;color: #696969;}#sk-container-id-2 label.sk-toggleable__label-arrow:hover:before {color: black;}#sk-container-id-2 div.sk-estimator:hover label.sk-toggleable__label-arrow:before {color: black;}#sk-container-id-2 div.sk-toggleable__content {max-height: 0;max-width: 0;overflow: hidden;text-align: left;background-color: #f0f8ff;}#sk-container-id-2 div.sk-toggleable__content pre {margin: 0.2em;color: black;border-radius: 0.25em;background-color: #f0f8ff;}#sk-container-id-2 input.sk-toggleable__control:checked~div.sk-toggleable__content {max-height: 200px;max-width: 100%;overflow: auto;}#sk-container-id-2 input.sk-toggleable__control:checked~label.sk-toggleable__label-arrow:before {content: \"▾\";}#sk-container-id-2 div.sk-estimator input.sk-toggleable__control:checked~label.sk-toggleable__label {background-color: #d4ebff;}#sk-container-id-2 div.sk-label input.sk-toggleable__control:checked~label.sk-toggleable__label {background-color: #d4ebff;}#sk-container-id-2 input.sk-hidden--visually {border: 0;clip: rect(1px 1px 1px 1px);clip: rect(1px, 1px, 1px, 1px);height: 1px;margin: -1px;overflow: hidden;padding: 0;position: absolute;width: 1px;}#sk-container-id-2 div.sk-estimator {font-family: monospace;background-color: #f0f8ff;border: 1px dotted black;border-radius: 0.25em;box-sizing: border-box;margin-bottom: 0.5em;}#sk-container-id-2 div.sk-estimator:hover {background-color: #d4ebff;}#sk-container-id-2 div.sk-parallel-item::after {content: \"\";width: 100%;border-bottom: 1px solid gray;flex-grow: 1;}#sk-container-id-2 div.sk-label:hover label.sk-toggleable__label {background-color: #d4ebff;}#sk-container-id-2 div.sk-serial::before {content: \"\";position: absolute;border-left: 1px solid gray;box-sizing: border-box;top: 0;bottom: 0;left: 50%;z-index: 0;}#sk-container-id-2 div.sk-serial {display: flex;flex-direction: column;align-items: center;background-color: white;padding-right: 0.2em;padding-left: 0.2em;position: relative;}#sk-container-id-2 div.sk-item {position: relative;z-index: 1;}#sk-container-id-2 div.sk-parallel {display: flex;align-items: stretch;justify-content: center;background-color: white;position: relative;}#sk-container-id-2 div.sk-item::before, #sk-container-id-2 div.sk-parallel-item::before {content: \"\";position: absolute;border-left: 1px solid gray;box-sizing: border-box;top: 0;bottom: 0;left: 50%;z-index: -1;}#sk-container-id-2 div.sk-parallel-item {display: flex;flex-direction: column;z-index: 1;position: relative;background-color: white;}#sk-container-id-2 div.sk-parallel-item:first-child::after {align-self: flex-end;width: 50%;}#sk-container-id-2 div.sk-parallel-item:last-child::after {align-self: flex-start;width: 50%;}#sk-container-id-2 div.sk-parallel-item:only-child::after {width: 0;}#sk-container-id-2 div.sk-dashed-wrapped {border: 1px dashed gray;margin: 0 0.4em 0.5em 0.4em;box-sizing: border-box;padding-bottom: 0.4em;background-color: white;}#sk-container-id-2 div.sk-label label {font-family: monospace;font-weight: bold;display: inline-block;line-height: 1.2em;}#sk-container-id-2 div.sk-label-container {text-align: center;}#sk-container-id-2 div.sk-container {/* jupyter's `normalize.less` sets `[hidden] { display: none; }` but bootstrap.min.css set `[hidden] { display: none !important; }` so we also need the `!important` here to be able to override the default hidden behavior on the sphinx rendered scikit-learn.org. See: https://github.com/scikit-learn/scikit-learn/issues/21755 */display: inline-block !important;position: relative;}#sk-container-id-2 div.sk-text-repr-fallback {display: none;}</style><div id=\"sk-container-id-2\" class=\"sk-top-container\"><div class=\"sk-text-repr-fallback\"><pre>Pipeline(steps=[(&#x27;tfidfvectorizer&#x27;,\n",
       "                 TfidfVectorizer(max_features=1500, stop_words=&#x27;english&#x27;)),\n",
       "                (&#x27;multinomialnb&#x27;, MultinomialNB())])</pre><b>In a Jupyter environment, please rerun this cell to show the HTML representation or trust the notebook. <br />On GitHub, the HTML representation is unable to render, please try loading this page with nbviewer.org.</b></div><div class=\"sk-container\" hidden><div class=\"sk-item sk-dashed-wrapped\"><div class=\"sk-label-container\"><div class=\"sk-label sk-toggleable\"><input class=\"sk-toggleable__control sk-hidden--visually\" id=\"sk-estimator-id-4\" type=\"checkbox\" ><label for=\"sk-estimator-id-4\" class=\"sk-toggleable__label sk-toggleable__label-arrow\">Pipeline</label><div class=\"sk-toggleable__content\"><pre>Pipeline(steps=[(&#x27;tfidfvectorizer&#x27;,\n",
       "                 TfidfVectorizer(max_features=1500, stop_words=&#x27;english&#x27;)),\n",
       "                (&#x27;multinomialnb&#x27;, MultinomialNB())])</pre></div></div></div><div class=\"sk-serial\"><div class=\"sk-item\"><div class=\"sk-estimator sk-toggleable\"><input class=\"sk-toggleable__control sk-hidden--visually\" id=\"sk-estimator-id-5\" type=\"checkbox\" ><label for=\"sk-estimator-id-5\" class=\"sk-toggleable__label sk-toggleable__label-arrow\">TfidfVectorizer</label><div class=\"sk-toggleable__content\"><pre>TfidfVectorizer(max_features=1500, stop_words=&#x27;english&#x27;)</pre></div></div></div><div class=\"sk-item\"><div class=\"sk-estimator sk-toggleable\"><input class=\"sk-toggleable__control sk-hidden--visually\" id=\"sk-estimator-id-6\" type=\"checkbox\" ><label for=\"sk-estimator-id-6\" class=\"sk-toggleable__label sk-toggleable__label-arrow\">MultinomialNB</label><div class=\"sk-toggleable__content\"><pre>MultinomialNB()</pre></div></div></div></div></div></div></div>"
      ],
      "text/plain": [
       "Pipeline(steps=[('tfidfvectorizer',\n",
       "                 TfidfVectorizer(max_features=1500, stop_words='english')),\n",
       "                ('multinomialnb', MultinomialNB())])"
      ]
     },
     "execution_count": 57,
     "metadata": {},
     "output_type": "execute_result"
    }
   ],
   "source": [
    "# We need to create a pipeline! This pipeline will automatically tokenize our data and then feed it into the model\n",
    "nbmodel = make_pipeline(TfidfVectorizer(max_features=1500, stop_words='english'), MultinomialNB())\n",
    "\n",
    "# Now, we need to train the model by fitting the training data to it. Very simple in sklearn!\n",
    "nbmodel.fit(X_train, y_train)\n",
    "\n",
    "nbmodel"
   ]
  },
  {
   "cell_type": "code",
   "execution_count": 61,
   "metadata": {},
   "outputs": [
    {
     "data": {
      "text/plain": [
       "Text(0.5, 1.0, 'Heatmap of predicted vs. correct authors\\non Austen vs. Melville')"
      ]
     },
     "execution_count": 61,
     "metadata": {},
     "output_type": "execute_result"
    },
    {
     "data": {
      "image/png": "[encoded data removed]",
      "text/plain": [
       "<Figure size 640x480 with 2 Axes>"
      ]
     },
     "metadata": {},
     "output_type": "display_data"
    }
   ],
   "source": [
    "# Now let's test\n",
    "plabels = nbmodel.predict(X_test)\n",
    "\n",
    "# Create a heatmap to examine which are right and wrong\n",
    "mat = confusion_matrix(y_test, plabels)\n",
    "sns.heatmap(mat, square=True, annot=True, fmt='d', cmap=\"Reds\")\n",
    "plt.xlabel('correct label')\n",
    "plt.ylabel('predicted label')\n",
    "plt.title('Heatmap of predicted vs. correct authors\\non Austen vs. Melville')"
   ]
  },
  {
   "cell_type": "code",
   "execution_count": 70,
   "metadata": {},
   "outputs": [
    {
     "name": "stdout",
     "output_type": "stream",
     "text": [
      "['melville']\n",
      "['austen']\n",
      "['melville']\n"
     ]
    }
   ],
   "source": [
    "# Let's try it ourselves\n",
    "print(nbmodel.predict([\"Wow, this was a really cool thing to do and wasn't hard to set up!\"]))\n",
    "print(nbmodel.predict([\"I am absolutely crushed Mr. Bayes rejected my invitation to the destruction of the world!\"]))\n",
    "print(nbmodel.predict([\"This is Mr. Herman Austen writing. How goes your day, my friend, Queequeg?\"])) # Notice how one feature holds a lot of power?"
   ]
  },
  {
   "cell_type": "markdown",
   "metadata": {},
   "source": [
    "***\n",
    "## 2. PyTorch (Small Perceptron Model)\n",
    "This will be a simple _Feed Forward Neural Network_ with fully connected layers (A _Perceptron_). This will demonstrate how neural networks are bad at deterministic tasks like logic operators. Here, we will try to train a neural network to recognize the correct output of a logical operator given two binary numbers (AND, OR, XOR). To create our data, the format will be a vector of length 3 such that:\n",
    "\n",
    "`[int([0,1]), int([0,1]), int([0,2])]` where the first two numbers are either 0 or 1 and the third corresponds to the logical operator (AND = 0, OR = 1, XOR = 2)\n",
    "\n",
    "### Doing Things The Old-Fashioned Way"
   ]
  },
  {
   "cell_type": "code",
   "execution_count": 51,
   "metadata": {},
   "outputs": [
    {
     "name": "stdout",
     "output_type": "stream",
     "text": [
      "(10000, 3)\n",
      "[0 1 0]\n",
      "(10000,)\n",
      "[0 1 0] 0\n"
     ]
    }
   ],
   "source": [
    "# Function to create output labels (look we did it, lmfao)\n",
    "def output_old(nums:list, op:int) -> int:\n",
    "    if op == 0:\n",
    "        return nums[0] & nums[1]\n",
    "    elif op == 1:\n",
    "        return nums[0] | nums[1]\n",
    "    else:\n",
    "        return nums[0] ^ nums[1]\n",
    "\n",
    "# Let's create our training and testing data\n",
    "size = 10000\n",
    "num1 = [rand.randint(0, 1) for i in range(size)]\n",
    "num2 = [rand.randint(0, 1) for i in range(size)]\n",
    "op = [rand.randint(0, 2) for i in range(size)]\n",
    "dataset = np.array([[num1, num2, op] for num1, num2, op in zip(num1, num2, op)])\n",
    "print(dataset.shape)\n",
    "print(dataset[100])\n",
    "\n",
    "# Now for the labels\n",
    "labels = np.array([output_old([data[0], data[1]], data[2]) for data in dataset])\n",
    "print(labels.shape)\n",
    "print(dataset[100], labels[100])"
   ]
  },
  {
   "cell_type": "code",
   "execution_count": 52,
   "metadata": {},
   "outputs": [
    {
     "name": "stdout",
     "output_type": "stream",
     "text": [
      "7500 2500\n",
      "[0 1 1] 1\n"
     ]
    }
   ],
   "source": [
    "# Let's split it into our train-test split\n",
    "X_train, X_test, y_train, y_test = train_test_split(dataset, labels, test_size=1/4, random_state=0)\n",
    "\n",
    "print(len(X_train), len(X_test))\n",
    "print(X_train[314], y_train[314])"
   ]
  },
  {
   "cell_type": "markdown",
   "metadata": {},
   "source": [
    "### Now For The PyTorch Way"
   ]
  },
  {
   "cell_type": "code",
   "execution_count": 35,
   "metadata": {},
   "outputs": [
    {
     "name": "stdout",
     "output_type": "stream",
     "text": [
      "(tensor([0, 0, 0]), tensor(0))\n"
     ]
    }
   ],
   "source": [
    "# Create a specialized dataset class to make the training loop easier\n",
    "# Class also modifed to have transforms\n",
    "class BinaryOpsDataset(Dataset):\n",
    "    def __init__(self, n=100, transform=None):\n",
    "\n",
    "        # Let's create our training and testing data\n",
    "        self.n = n\n",
    "        num1 = [rand.randint(0, 1) for i in range(n)]\n",
    "        num2 = [rand.randint(0, 1) for i in range(n)]\n",
    "        op = [rand.randint(0, 2) for i in range(n)]\n",
    "        self.x = np.array([[num1, num2, op] for num1, num2, op in zip(num1, num2, op)])\n",
    "\n",
    "        # Now for the labels\n",
    "        self.y = np.array([self.output([data[0], data[1]], data[2]) for data in self.x])\n",
    "\n",
    "        # And any necessary transformations\n",
    "        self.transform = transform\n",
    "\n",
    "    def __len__(self):\n",
    "        return self.n\n",
    "\n",
    "    def __getitem__(self, index):\n",
    "\n",
    "        if self.transform:\n",
    "            return self.transform((self.x[index], self.y[index]))\n",
    "        else:\n",
    "            return self.x[index], self.y[index]\n",
    "\n",
    "    def output(self, nums:list, op:int) -> int:\n",
    "        \"\"\"\n",
    "        Same function as before, just made a class method.\n",
    "        \"\"\"\n",
    "\n",
    "        if op == 0:\n",
    "            return int(nums[0]) & int(nums[1])\n",
    "        elif op == 1:\n",
    "            return int(nums[0]) | int(nums[1])\n",
    "        else:\n",
    "            return int(nums[0]) ^ int(nums[1])\n",
    "\n",
    "# Create a custom transforms\n",
    "class ToTensor():\n",
    "    def __call__(self, sample):\n",
    "        inputs, targets = sample\n",
    "        return torch.from_numpy(np.asarray(inputs)), torch.from_numpy(np.asarray(targets))\n",
    "\n",
    "# Create our dataset, contains data\n",
    "n = 50000\n",
    "train_dataset = BinaryOpsDataset(n, transform=ToTensor())\n",
    "test_dataset = BinaryOpsDataset(n, transform=ToTensor())\n",
    "print(train_dataset[100])\n",
    "\n",
    "\n",
    "# Create our dataloader, used to iterate through the training loop more easily\n",
    "train_dataloader = DataLoader(dataset=train_dataset, batch_size=40, shuffle=True, num_workers=2) # Subprocs\n",
    "test_dataloader = DataLoader(dataset=test_dataset, batch_size=40, shuffle=True, num_workers=2) # Subprocs"
   ]
  },
  {
   "cell_type": "code",
   "execution_count": 36,
   "metadata": {},
   "outputs": [],
   "source": [
    "# Now this is where things get a little bit complicated. We need to make a class to store the neural network\n",
    "# First, here are all the hyperparameters it'll have\n",
    "# Length of a datapoint\n",
    "input_size = 3\n",
    "\n",
    "# How many \"nodes\" each hidden layer will have, kind of arbitrary without optimization searches\n",
    "hidden_size = 100\n",
    "\n",
    "# The number of classes it'll be asked to identify (1)\n",
    "num_classes = 2\n",
    "\n",
    "# Learning rate, how quickly it should \"accept/learn\" new data (the step size of our gradient descent)\n",
    "learning_rate = .001\n",
    "\n",
    "# How many epochs (iteration through the entire training data) there are\n",
    "num_epochs = 6\n",
    "\n",
    "# Create the Neural Network, a fully connected FFNN (Perceptron)\n",
    "class Perceptron(nn.Module):\n",
    "\n",
    "    def __init__(self, input_size, hidden_size, num_classes, /):\n",
    "\n",
    "        # This is required for any NN class\n",
    "        super(Perceptron, self).__init__()\n",
    "\n",
    "        # Create layers\n",
    "        self.l1 = nn.Linear(input_size, hidden_size)\n",
    "\n",
    "        # The activation function used between each layer\n",
    "        self.relu = nn.ReLU()\n",
    "\n",
    "        self.l2 = nn.Linear(hidden_size, num_classes)\n",
    "\n",
    "    def forward(self, x):\n",
    "        \"\"\"\n",
    "        This is the function called for a prediction, feeding the data through our model in-order\n",
    "        \"\"\"\n",
    "        \n",
    "        out = self.l1(x)\n",
    "        out = self.relu(out)\n",
    "        out = self.l2(out)\n",
    "        return out\n",
    "\n",
    "# Create our model\n",
    "model = Perceptron(input_size, hidden_size, num_classes)\n",
    "\n",
    "# Loss and Optimizer\n",
    "# Loss is how we calculate the loss (the loss function) and optimizer is an additional step for performance\n",
    "criterion = nn.CrossEntropyLoss()\n",
    "optimizer = torch.optim.Adam(model.parameters(), lr=learning_rate)"
   ]
  },
  {
   "cell_type": "code",
   "execution_count": 37,
   "metadata": {},
   "outputs": [
    {
     "name": "stdout",
     "output_type": "stream",
     "text": [
      "epoch: 1/6, step: 625/1250, loss=0.0853f\n",
      "epoch: 1/6, step: 1250/1250, loss=0.0168f\n",
      "epoch: 2/6, step: 625/1250, loss=0.0074f\n",
      "epoch: 2/6, step: 1250/1250, loss=0.0043f\n",
      "epoch: 3/6, step: 625/1250, loss=0.0018f\n",
      "epoch: 3/6, step: 1250/1250, loss=0.0013f\n",
      "epoch: 4/6, step: 625/1250, loss=0.0007f\n",
      "epoch: 4/6, step: 1250/1250, loss=0.0005f\n",
      "epoch: 5/6, step: 625/1250, loss=0.0004f\n",
      "epoch: 5/6, step: 1250/1250, loss=0.0002f\n",
      "epoch: 6/6, step: 625/1250, loss=0.0002f\n",
      "epoch: 6/6, step: 1250/1250, loss=0.0001f\n"
     ]
    }
   ],
   "source": [
    "# Harness GPU if available\n",
    "device = torch.device('cuda' if torch.cuda.is_available() else 'cpu')\n",
    "\n",
    "# Move model to device\n",
    "model = model.to(device)\n",
    "\n",
    "# Training loop\n",
    "total_samples = len(train_dataset)\n",
    "\n",
    "# Steps per epoch\n",
    "n_total_steps = len(train_dataloader)\n",
    "\n",
    "for epoch in range(num_epochs):\n",
    "    for i, (logic_ops, labels) in enumerate(train_dataloader):\n",
    "\n",
    "        # Convert to float32 and push to GPU\n",
    "        inputs = logic_ops.to(torch.float32).to(device)\n",
    "        labels = labels.to(device)\n",
    "\n",
    "        # Forward and Loss        \n",
    "        outputs = model(inputs)\n",
    "        loss = criterion(outputs, labels)\n",
    "\n",
    "        # Backward Pass\n",
    "        optimizer.zero_grad() # Clear grads from last cycle\n",
    "        loss.backward()\n",
    "        optimizer.step()\n",
    "\n",
    "        if (i + 1) % 625 == 0:\n",
    "            print('epoch: %d/%d, step: %d/%d, loss=%.4ff' % (epoch+1, num_epochs, i+1, n_total_steps, loss.item()))"
   ]
  },
  {
   "cell_type": "code",
   "execution_count": 38,
   "metadata": {},
   "outputs": [
    {
     "name": "stdout",
     "output_type": "stream",
     "text": [
      "Accuracy=50.0000\n",
      "tensor([-4.3848,  4.1469], device='cuda:0')\n"
     ]
    }
   ],
   "source": [
    "# Testing\n",
    "with torch.no_grad():\n",
    "    n_correct = 0\n",
    "    n_samples = len(test_dataset)\n",
    "\n",
    "    for logic_ops, labels in test_dataloader:\n",
    "\n",
    "        # Convert to float32 and push to GPU\n",
    "        inputs = logic_ops.to(torch.float32).to(device)\n",
    "        labels = labels.to(device)\n",
    "\n",
    "        outputs = model(inputs)\n",
    "        \n",
    "        # Rows of vectors, we want the max from the vectors\n",
    "        # value, index\n",
    "        _, preds = torch.max(outputs, 1)\n",
    "        n_samples += labels.shape[0]\n",
    "        n_correct += (preds == labels).sum().item()\n",
    "\n",
    "    acc = 100.0 * n_correct / n_samples\n",
    "    print('Accuracy=%.4f' % acc)\n",
    "    \n",
    "    print(model(torch.tensor([1,1,1], dtype=torch.float32).to(device)))"
   ]
  },
  {
   "cell_type": "markdown",
   "metadata": {},
   "source": [
    "***\n",
    "## 3. Hugging Face Demo\n",
    "This will be just a quick demo on how to use an _NLP-based Hugging Face Pretrained Transformer Model_. They are very easy to use and can be easily added to a given program to give it some more functionality.\n",
    "\n",
    "### Default Transformers"
   ]
  },
  {
   "cell_type": "code",
   "execution_count": 122,
   "metadata": {},
   "outputs": [
    {
     "name": "stderr",
     "output_type": "stream",
     "text": [
      "No model was supplied, defaulted to distilbert-base-uncased-finetuned-sst-2-english and revision af0f99b (https://huggingface.co/distilbert-base-uncased-finetuned-sst-2-english).\n",
      "Using a pipeline without specifying a model name and revision in production is not recommended.\n"
     ]
    },
    {
     "data": {
      "application/json": {
       "ascii": false,
       "bar_format": null,
       "colour": null,
       "elapsed": 0.012396812438964844,
       "initial": 0,
       "n": 0,
       "ncols": null,
       "nrows": null,
       "postfix": null,
       "prefix": "Downloading",
       "rate": null,
       "total": 267844284,
       "unit": "B",
       "unit_divisor": 1000,
       "unit_scale": true
      },
      "application/vnd.jupyter.widget-view+json": {
       "model_id": "46f3c6bd88f14221acaf1deec908bfba",
       "version_major": 2,
       "version_minor": 0
      },
      "text/plain": [
       "Downloading:   0%|          | 0.00/268M [00:00<?, ?B/s]"
      ]
     },
     "metadata": {},
     "output_type": "display_data"
    },
    {
     "data": {
      "application/json": {
       "ascii": false,
       "bar_format": null,
       "colour": null,
       "elapsed": 0.012446403503417969,
       "initial": 0,
       "n": 0,
       "ncols": null,
       "nrows": null,
       "postfix": null,
       "prefix": "Downloading",
       "rate": null,
       "total": 48,
       "unit": "B",
       "unit_divisor": 1000,
       "unit_scale": true
      },
      "application/vnd.jupyter.widget-view+json": {
       "model_id": "ea58e4f81f6c42708b3f39f9081af621",
       "version_major": 2,
       "version_minor": 0
      },
      "text/plain": [
       "Downloading:   0%|          | 0.00/48.0 [00:00<?, ?B/s]"
      ]
     },
     "metadata": {},
     "output_type": "display_data"
    },
    {
     "data": {
      "application/json": {
       "ascii": false,
       "bar_format": null,
       "colour": null,
       "elapsed": 0.01086282730102539,
       "initial": 0,
       "n": 0,
       "ncols": null,
       "nrows": null,
       "postfix": null,
       "prefix": "Downloading",
       "rate": null,
       "total": 231508,
       "unit": "B",
       "unit_divisor": 1000,
       "unit_scale": true
      },
      "application/vnd.jupyter.widget-view+json": {
       "model_id": "dfa9b3cf11484ee9ab9425605a9919cb",
       "version_major": 2,
       "version_minor": 0
      },
      "text/plain": [
       "Downloading:   0%|          | 0.00/232k [00:00<?, ?B/s]"
      ]
     },
     "metadata": {},
     "output_type": "display_data"
    }
   ],
   "source": [
    "# First, just a general task but no Transformer specified; defaults to one\n",
    "classifier = pipeline(\"sentiment-analysis\")"
   ]
  },
  {
   "cell_type": "code",
   "execution_count": 123,
   "metadata": {},
   "outputs": [
    {
     "data": {
      "text/plain": [
       "[{'label': 'POSITIVE', 'score': 0.9995996356010437}]"
      ]
     },
     "execution_count": 123,
     "metadata": {},
     "output_type": "execute_result"
    }
   ],
   "source": [
    "classifier('This is my very first hugging face transformer model. It seems really nice to use!')"
   ]
  },
  {
   "cell_type": "markdown",
   "metadata": {},
   "source": [
    "### Picking Our Own\n",
    "The [website](https://huggingface.co) makes this very easy! Let's pick one! The one this notebook is currently using is the [_T5\\_Small_](https://huggingface.co/t5-small), but feel free to rewrite to pick your own!"
   ]
  },
  {
   "cell_type": "code",
   "execution_count": 124,
   "metadata": {},
   "outputs": [
    {
     "data": {
      "application/json": {
       "ascii": false,
       "bar_format": null,
       "colour": null,
       "elapsed": 0.013138294219970703,
       "initial": 0,
       "n": 0,
       "ncols": null,
       "nrows": null,
       "postfix": null,
       "prefix": "Downloading",
       "rate": null,
       "total": 1197,
       "unit": "B",
       "unit_divisor": 1000,
       "unit_scale": true
      },
      "application/vnd.jupyter.widget-view+json": {
       "model_id": "6debee8b54e246aea1faf39aed513035",
       "version_major": 2,
       "version_minor": 0
      },
      "text/plain": [
       "Downloading:   0%|          | 0.00/1.20k [00:00<?, ?B/s]"
      ]
     },
     "metadata": {},
     "output_type": "display_data"
    },
    {
     "data": {
      "application/json": {
       "ascii": false,
       "bar_format": null,
       "colour": null,
       "elapsed": 0.011406421661376953,
       "initial": 0,
       "n": 0,
       "ncols": null,
       "nrows": null,
       "postfix": null,
       "prefix": "Downloading",
       "rate": null,
       "total": 791656,
       "unit": "B",
       "unit_divisor": 1000,
       "unit_scale": true
      },
      "application/vnd.jupyter.widget-view+json": {
       "model_id": "953acc2eac404f0288a0d7b27c39c707",
       "version_major": 2,
       "version_minor": 0
      },
      "text/plain": [
       "Downloading:   0%|          | 0.00/792k [00:00<?, ?B/s]"
      ]
     },
     "metadata": {},
     "output_type": "display_data"
    },
    {
     "data": {
      "application/json": {
       "ascii": false,
       "bar_format": null,
       "colour": null,
       "elapsed": 0.011245489120483398,
       "initial": 0,
       "n": 0,
       "ncols": null,
       "nrows": null,
       "postfix": null,
       "prefix": "Downloading",
       "rate": null,
       "total": 1389353,
       "unit": "B",
       "unit_divisor": 1000,
       "unit_scale": true
      },
      "application/vnd.jupyter.widget-view+json": {
       "model_id": "da6ac683b19a40e1886eea7e171c047c",
       "version_major": 2,
       "version_minor": 0
      },
      "text/plain": [
       "Downloading:   0%|          | 0.00/1.39M [00:00<?, ?B/s]"
      ]
     },
     "metadata": {},
     "output_type": "display_data"
    },
    {
     "name": "stderr",
     "output_type": "stream",
     "text": [
      "/home/computer_cat/miniconda3/lib/python3.9/site-packages/transformers/models/t5/tokenization_t5_fast.py:156: FutureWarning: This tokenizer was incorrectly instantiated with a model max length of 512 which will be corrected in Transformers v5.\n",
      "For now, this behavior is kept to avoid breaking backwards compatibility when padding/encoding with `truncation is True`.\n",
      "- Be aware that you SHOULD NOT rely on t5-small automatically truncating your input to 512 when padding/encoding.\n",
      "- If you want to encode/pad to sequences longer than 512 you can either instantiate this tokenizer with `model_max_length` or pass `max_length` when encoding/padding.\n",
      "- To avoid this warning, please instantiate this tokenizer with `model_max_length` set to your preferred value.\n",
      "  warnings.warn(\n",
      "/home/computer_cat/miniconda3/lib/python3.9/site-packages/transformers/models/auto/modeling_auto.py:1062: FutureWarning: The class `AutoModelWithLMHead` is deprecated and will be removed in a future version. Please use `AutoModelForCausalLM` for causal language models, `AutoModelForMaskedLM` for masked language models and `AutoModelForSeq2SeqLM` for encoder-decoder models.\n",
      "  warnings.warn(\n"
     ]
    },
    {
     "data": {
      "application/json": {
       "ascii": false,
       "bar_format": null,
       "colour": null,
       "elapsed": 0.011626243591308594,
       "initial": 0,
       "n": 0,
       "ncols": null,
       "nrows": null,
       "postfix": null,
       "prefix": "Downloading",
       "rate": null,
       "total": 242065649,
       "unit": "B",
       "unit_divisor": 1000,
       "unit_scale": true
      },
      "application/vnd.jupyter.widget-view+json": {
       "model_id": "dfe631515bf4478794a9cc00adceed7d",
       "version_major": 2,
       "version_minor": 0
      },
      "text/plain": [
       "Downloading:   0%|          | 0.00/242M [00:00<?, ?B/s]"
      ]
     },
     "metadata": {},
     "output_type": "display_data"
    }
   ],
   "source": [
    "from transformers import AutoTokenizer, AutoModelWithLMHead\n",
    "\n",
    "tokenizer = AutoTokenizer.from_pretrained(\"t5-small\")\n",
    "\n",
    "model = AutoModelWithLMHead.from_pretrained(\"t5-small\")"
   ]
  },
  {
   "cell_type": "code",
   "execution_count": 128,
   "metadata": {},
   "outputs": [
    {
     "name": "stdout",
     "output_type": "stream",
     "text": [
      "Casa este minunată.\n"
     ]
    }
   ],
   "source": [
    "# There's a lot of documentation on how to use this transformer (https://huggingface.co/docs/transformers/main/en/model_doc/t5#inference)\n",
    "input_ids = tokenizer(\"translate English to Romanian: The house is wonderful.\", return_tensors=\"pt\").input_ids\n",
    "outputs = model.generate(input_ids)\n",
    "print(tokenizer.decode(outputs[0], skip_special_tokens=True))"
   ]
  }
 ],
 "metadata": {
  "kernelspec": {
   "display_name": "Python 3.9.13 ('base')",
   "language": "python",
   "name": "python3"
  },
  "language_info": {
   "codemirror_mode": {
    "name": "ipython",
    "version": 3
   },
   "file_extension": ".py",
   "mimetype": "text/x-python",
   "name": "python",
   "nbconvert_exporter": "python",
   "pygments_lexer": "ipython3",
   "version": "3.9.13"
  },
  "orig_nbformat": 4,
  "vscode": {
   "interpreter": {
    "hash": "75564dbd713d8635e66bce18a5f6cdc021195db8d1ecf283647f3f759cb49a31"
   }
  }
 },
 "nbformat": 4,
 "nbformat_minor": 2
}
